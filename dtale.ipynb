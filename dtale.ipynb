{
 "cells": [
  {
   "cell_type": "code",
   "execution_count": 12,
   "metadata": {},
   "outputs": [
    {
     "output_type": "stream",
     "name": "stdout",
     "text": [
      "http://Charless-MacBook-Pro.local:40001/dtale/main/1\nIt looks like this data may have already been loaded to D-Tale based on shape and column names. Here is URL of the data that seems to match it:\n\nNone\n\nIf you still want to load this data please use the following command:\n\ndtale.show(df, ignore_duplicate=True)\n"
     ]
    }
   ],
   "source": [
    "import dtale\n",
    "import os\n",
    "from pathlib import Path\n",
    "import pandas as pd\n",
    "\n",
    "# objects\n",
    "from objects.parameters import COLS\n",
    "\n",
    "data_path = Path( os.getcwd(), 'data/kraken/COMPUSD.csv' ) \n",
    "\n",
    "data = pd.read_csv( data_path, names=COLS.values() )\n",
    "\n",
    "# Assigning a reference to a running D-Tale process\n",
    "d = dtale.show( data )"
   ]
  },
  {
   "source": [],
   "cell_type": "markdown",
   "metadata": {}
  },
  {
   "cell_type": "code",
   "execution_count": null,
   "metadata": {},
   "outputs": [],
   "source": []
  },
  {
   "cell_type": "code",
   "execution_count": null,
   "metadata": {},
   "outputs": [],
   "source": []
  },
  {
   "source": [],
   "cell_type": "markdown",
   "metadata": {}
  }
 ],
 "metadata": {
  "kernelspec": {
   "display_name": "Python 3",
   "language": "python",
   "name": "python3"
  },
  "language_info": {
   "codemirror_mode": {
    "name": "ipython",
    "version": 3
   },
   "file_extension": ".py",
   "mimetype": "text/x-python",
   "name": "python",
   "nbconvert_exporter": "python",
   "pygments_lexer": "ipython3",
   "version": "3.8.3-final"
  }
 },
 "nbformat": 4,
 "nbformat_minor": 4
}